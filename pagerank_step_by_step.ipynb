{
 "cells": [
  {
   "cell_type": "markdown",
   "metadata": {},
   "source": [
    "## PageRank: Step-by-step\n",
    "This is a barebones PageRank implementation that creates the full n-by-n matrix of links (where n = the number of nodes in your graph). In practice, you will not want to do this."
   ]
  },
  {
   "cell_type": "code",
   "execution_count": null,
   "metadata": {
    "scrolled": true
   },
   "outputs": [],
   "source": [
    "# the random walker follows links with probability = d\n",
    "d = 0.75"
   ]
  },
  {
   "cell_type": "code",
   "execution_count": null,
   "metadata": {
    "scrolled": true
   },
   "outputs": [],
   "source": [
    "import numpy as np\n",
    "\n",
    "# represent your graph as a link matrix\n",
    "# each row represents a node, the entries represent the probability \n",
    "# of following a link to another node\n",
    "LinkMatrix = np.matrix(( (0.0, 0.0, 1.0, 0.0, 0.0), \n",
    "                         (0.5, 0.0, 0.5, 0.0, 0.0), \n",
    "                         (0.0, 0.0, 0.0, 0.5, 0.5),\n",
    "                         (0.0, 0.0, 0.0, 0.0, 1.0), \n",
    "                         (0.0, 1.0, 0.0, 0.0, 0.0) ))  "
   ]
  },
  {
   "cell_type": "code",
   "execution_count": null,
   "metadata": {
    "scrolled": true
   },
   "outputs": [],
   "source": [
    "# each row represents a node, the entries represent the probability\n",
    "# of randomly teleporting to another node\n",
    "Teleport = np.matrix(( (1./5, 1./5, 1./5, 1./5, 1./5),\n",
    "                       (1./5, 1./5, 1./5, 1./5, 1./5),\n",
    "                       (1./5, 1./5, 1./5, 1./5, 1./5),\n",
    "                       (1./5, 1./5, 1./5, 1./5, 1./5),\n",
    "                       (1./5, 1./5, 1./5, 1./5, 1./5) ))"
   ]
  },
  {
   "cell_type": "code",
   "execution_count": null,
   "metadata": {
    "scrolled": true
   },
   "outputs": [],
   "source": [
    "# combine the two matrices to arrive at the probability that a\n",
    "# random walker will move from one node to another (either by \n",
    "# following links or teleporting)\n",
    "T = np.add (d * LinkMatrix, (1-d) * Teleport)\n",
    "print(T)"
   ]
  },
  {
   "cell_type": "markdown",
   "metadata": {},
   "source": [
    "### Let's find PageRank\n",
    "The matrix T represents the Markov Chain associated with the random walker, but that's all. We need to find out where the random walker will be after many steps (that's the long-term steady state distribution of the walker = PageRank scores)."
   ]
  },
  {
   "cell_type": "code",
   "execution_count": null,
   "metadata": {
    "scrolled": true
   },
   "outputs": [],
   "source": [
    "# let's define an initial distribution for our random walker\n",
    "# all that matters is it sums to 1 (since it's a probability distribution)\n",
    "x = [0.1, 0.1, 0.2, 0.3, 0.3]"
   ]
  },
  {
   "cell_type": "code",
   "execution_count": null,
   "metadata": {
    "scrolled": false
   },
   "outputs": [],
   "source": [
    "# now we can update each step of the random walk\n",
    "# the new distribution (x_new) is where we arrive after \n",
    "# taking one step according to T\n",
    "x_new = x*T\n",
    "print(x_new)\n",
    "x = x_new"
   ]
  },
  {
   "cell_type": "markdown",
   "metadata": {},
   "source": [
    "To find the long-term steady state distributon (PageRank scores), we need to keep stepping through the random walk until convergence. For this notebook, we can just do that by repeatedly executing the cell above."
   ]
  },
  {
   "cell_type": "markdown",
   "metadata": {},
   "source": [
    "## Topic-Sensitive PageRank"
   ]
  },
  {
   "cell_type": "code",
   "execution_count": null,
   "metadata": {
    "scrolled": true
   },
   "outputs": [],
   "source": [
    "# For topic-sensitive PageRank we can replace the vanilla\n",
    "# teleportation matrix with a \"biased\" one, where the bias\n",
    "# is towards pages of a particular topic. \n",
    "SportsTeleport = np.matrix(( (1., 0., 0., 0., 0.),\n",
    "                             (1., 0., 0., 0., 0.),\n",
    "                             (1., 0., 0., 0., 0.),\n",
    "                             (1., 0., 0., 0., 0.),\n",
    "                             (1., 0., 0., 0., 0.) ))\n",
    "\n",
    "# Here, we find a version of T that is biased towards sports pages\n",
    "T_sports = np.add (d * LinkMatrix, (1-d) * SportsTeleport)\n",
    "print(T_sports)"
   ]
  },
  {
   "cell_type": "code",
   "execution_count": null,
   "metadata": {
    "scrolled": true
   },
   "outputs": [],
   "source": [
    "# just as before, we can define an initial distribution\n",
    "x_sports = [0.2, 0.2, 0.2, 0.2, 0.3]"
   ]
  },
  {
   "cell_type": "code",
   "execution_count": null,
   "metadata": {
    "scrolled": true
   },
   "outputs": [],
   "source": [
    "# then iterate to find where the sports-walker ends up\n",
    "x_sports_new = x_sports*T_sports\n",
    "print(x_sports_new)\n",
    "x = x_sports_new"
   ]
  },
  {
   "cell_type": "code",
   "execution_count": null,
   "metadata": {
    "scrolled": true
   },
   "outputs": [],
   "source": []
  }
 ],
 "metadata": {
  "kernelspec": {
   "display_name": "Python 3",
   "language": "python",
   "name": "python3"
  },
  "language_info": {
   "codemirror_mode": {
    "name": "ipython",
    "version": 3
   },
   "file_extension": ".py",
   "mimetype": "text/x-python",
   "name": "python",
   "nbconvert_exporter": "python",
   "pygments_lexer": "ipython3",
   "version": "3.6.5"
  }
 },
 "nbformat": 4,
 "nbformat_minor": 2
}
