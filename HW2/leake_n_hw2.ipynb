{
 "cells": [
  {
   "cell_type": "markdown",
   "metadata": {},
   "source": [
    "#### CSCE 470 :: Information Storage and Retrieval :: Texas A&M University :: Fall 2018\n",
    "\n",
    "\n",
    "# Homework 2:  Hubs-and-Authorities + SEO\n",
    "\n",
    "### 100 points [5% of your final grade]\n",
    "\n",
    "### Due: October 4, 2018 by 11:59pm\n",
    "\n",
    "*Goals of this homework:* Explore real-world challenges of building a graph (in this case, from a trust graph), implement and test Hubs and Authorities over this graph, and investigate factors that impact a page's rank on Google and Bing.\n",
    "\n",
    "*Submission Instructions (Google Classroom):* To submit your homework, rename this notebook as  `lastname_firstinitial_hw#.ipynb`. For example, my homework submission would be: `caverlee_j_hw2.ipynb`. Submit this notebook via **Google Classroom**. Your IPython notebook should be completely self-contained, with the results visible in the notebook. We should not have to run any code from the command line, nor should we have to run your code within the notebook (though we reserve the right to do so).\n",
    "\n",
    "*Due:* October 4, 2018 by 11:59pm. For this homework, you may use up to three of your late days, meaning that no submissions will be accepted after October 7 at 11:59pm."
   ]
  },
  {
   "cell_type": "markdown",
   "metadata": {},
   "source": [
    "# Part 1: Trust-based Hubs-and-Authorities (70 points)\n",
    "\n",
    "## A Trust Graph\n",
    "\n",
    "In this assignment, we're going to adapt the classic Hubs-and-Authorities approach to allow us to find not the most trustful users. So, instead of viewing the world as web pages with hyperlinks (where pages = nodes, hyperlinks = edges), we're going to construct a graph of Epinions users and their trust network (so user = node, trust another user = edge). Epinions was a review website where users could review products (like on Amazon) but also provide a \"trust\" link to other users. Over this trust graph, we can apply the Hubs-and-Authorities approach to order the users according to both their hub scores and authority scores. The main idea is that a user who is trusted by other users is more \"trustful\". So, a user with high trustHub score connects to lots of trusted users. A user with high authorityHub score is trusted by lots of good hubs.\n",
    "\n",
    "Here is a toy example. Suppose you are given the following four relations of the form (UserID1 trust UserID2):\n",
    "\n",
    "* teddiec trust jnbmoore\n",
    "* matta75 trust tallgent\n",
    "* nano trust dannec\n",
    "* craftswoman trust ifif1938\n",
    "\n",
    "So, \"teddiec\" is a node with a directed edge to the \"jnbmoore\" node. \n",
    "\n",
    "We provide you with a file containing these kinds of trust relationships: \n",
    "\n",
    "*epinions_network_trust.txt*.\n",
    "\n",
    "You should build a graph of users and trust edges based on this file. Your data structure should support calculating Hubs-and-Authorities, so think carefully about how you want to approach this part."
   ]
  },
  {
   "cell_type": "code",
   "execution_count": 4,
   "metadata": {},
   "outputs": [],
   "source": [
    "#read the data\n",
    "#import pandas as pd\n",
    "#data = pd.read_csv('epinions_network_trust.txt', sep=' ', header = None, names =  [\"UserID1\", \"Relation\", \"UserID2\"])\n",
    "\n",
    "graph = {}\n",
    "with open('epinions_network_trust.txt') as fhook:\n",
    "    for line in fhook:\n",
    "        # Building the graph\n",
    "        user1,relation,user2 = line.split()\n",
    "        if user1 in graph: graph[user1]['out'][user2] = 1\n",
    "        else: graph[user1] = {'out':{user2:1},'in':{},'hub':1,'auth':1}\n",
    "        if user2 in graph: graph[user2]['in'][user1] = 1\n",
    "        else: graph[user2] = {'out':{},'in':{user1:1},'hub':1,'auth':1}\n"
   ]
  },
  {
   "cell_type": "code",
   "execution_count": 5,
   "metadata": {},
   "outputs": [],
   "source": [
    "def num_nodes(graph):\n",
    "    return len(graph)\n",
    "\n",
    "def num_edges(graph):\n",
    "    return sum(len(graph[u]['in']) for u in graph)"
   ]
  },
  {
   "cell_type": "code",
   "execution_count": 6,
   "metadata": {},
   "outputs": [
    {
     "name": "stdout",
     "output_type": "stream",
     "text": [
      "Number of nodes: 1032\n",
      "Number of edges: 1177\n"
     ]
    }
   ],
   "source": [
    "# Call your function to print out the size of the graph, i.e., the number of nodes and edges\n",
    "# How you maintain the graph is totally up to you\n",
    "# However, if you encounter any memory issues, we recommend you write the graph into a file, and load it later.\n",
    "# you may not use any existing graph libraries\n",
    "\n",
    "print(\"Number of nodes:\", num_nodes(graph))\n",
    "print(\"Number of edges:\", num_edges(graph))\n"
   ]
  },
  {
   "cell_type": "markdown",
   "metadata": {
    "collapsed": true
   },
   "source": [
    "We will not check the correctness of your graph. However, this will affect the Hubs-and-Authorities results later."
   ]
  },
  {
   "cell_type": "markdown",
   "metadata": {},
   "source": [
    "## Hubs-and-Authorities Implementation\n",
    "\n",
    "Your program will return the top-10 users with highest Hub scores and the top-10 users with the highest Authority scores.. The **output** should be like:\n",
    "\n",
    "`TrustHub Scores`\n",
    "\n",
    "`user1 - score1`\n",
    "\n",
    "`user2 - score2`\n",
    "\n",
    "`...`\n",
    "\n",
    "`user10 - score10`\n",
    "\n",
    "\n",
    "`TrustAuthority Scores`\n",
    "\n",
    "`user1 - score1`\n",
    "\n",
    "`user2 - score2`\n",
    "\n",
    "` ...`\n",
    "\n",
    "`user10 - score10`\n",
    "\n",
    "\n",
    "You should follow these **rules**:\n",
    "\n",
    "* If a user is never mentioned and does not mention anyone, their scores should be zero. Do not include the user in the calculation.\n",
    "* It is up to you to decide when to terminate the calculation.\n",
    "* There are implementations out there on the web. Remember, your code should be **your own**.\n",
    "\n",
    "\n",
    "**Hints**:\n",
    "* If you're using the matrix style approach, you should use [numpy.matrix](https://docs.scipy.org/doc/numpy/reference/generated/numpy.matrix.html).\n",
    "* Scipy is built on top of Numpy and has support for sparse matrices. You most likely will not need to use Scipy unless you'd like to try out their sparse matrices.\n",
    "* If you choose to use Numpy (and Scipy), please make sure your Anaconda environment include their latest versions.\n",
    "* Test your parsing and calculations using a handful of users, before moving on to the entire file we provide.\n",
    "* We will evaluate the user ranks you provide as well as the quality of your code. So make sure that your code is clear and readable."
   ]
  },
  {
   "cell_type": "markdown",
   "metadata": {},
   "source": [
    "What is the termination condition in your implementation? Describe it below:\n",
    "\n",
    "Simply put, my implementation of the H-A calculation terminates once the number of iterations hits 1000.  I could have made one that stops once the precision hits a certain decimal point, but let's be real this graph is so small it's a joke. 500 gets the scores wayyy more precise than I need them to be but since the graph is miniscule it still runs instantly.  Let's get a real graph problem next time lol."
   ]
  },
  {
   "cell_type": "code",
   "execution_count": 24,
   "metadata": {},
   "outputs": [],
   "source": [
    "# Here add your code\n",
    "# Insert as many cells as you want\n",
    "from math import sqrt\n",
    "\n",
    "# iters = iterations\n",
    "def compute_ha(g, iters=500):\n",
    "    for itr in range(iters):\n",
    "        # Update Hubs\n",
    "        sumsq = 1\n",
    "        for u1 in g:\n",
    "            hscore = sum(g[u2]['auth'] for u2 in g[u1]['out'])\n",
    "            sumsq += hscore*hscore\n",
    "            g[u1]['hub'] = hscore\n",
    "        # Normalize Hubs\n",
    "        sumsq = sqrt(sumsq)\n",
    "        for u1 in g: g[u1]['hub'] /= sumsq\n",
    "\n",
    "        # Update Authorities\n",
    "        sumsq = 1\n",
    "        for u1 in g:\n",
    "            ascore = sum(g[u2]['hub'] for u2 in g[u1]['in'])\n",
    "            sumsq += ascore*ascore\n",
    "            g[u1]['auth'] = ascore\n",
    "        # Normalize Authorities\n",
    "        sumsq = sqrt(sumsq)\n",
    "        for u1 in g: g[u1]['auth'] /= sumsq"
   ]
  },
  {
   "cell_type": "code",
   "execution_count": 25,
   "metadata": {},
   "outputs": [],
   "source": [
    "def print_hubs(graph, top=20):\n",
    "    print('TrustHub Scores')\n",
    "    top_hub = sorted(((graph[u]['hub'], u) for u in graph), reverse=True)\n",
    "    for i in range(top):\n",
    "        print(top_hub[i][1], '-', top_hub[i][0])\n",
    "\n",
    "def print_authorities(graph, top=20):\n",
    "    print('TrustAuthority Scores')\n",
    "    top_hub = sorted(((graph[u]['auth'], u) for u in graph), reverse=True)\n",
    "    for i in range(top):\n",
    "        print(top_hub[i][1], '-', top_hub[i][0])"
   ]
  },
  {
   "cell_type": "code",
   "execution_count": 26,
   "metadata": {},
   "outputs": [
    {
     "name": "stdout",
     "output_type": "stream",
     "text": [
      "TrustHub Scores\n",
      "scmrak - 0.5396812680927763\n",
      "fuche_bu - 0.4161762103725233\n",
      "hawgwyld - 0.24928333221357807\n",
      "supergoldzero - 0.24637565540918674\n",
      "brendametcalf - 0.20112741951420748\n",
      "joecooper - 0.18124937142022568\n",
      "ladyconsumer - 0.11672271392594415\n",
      "dolphinboy - 0.11484786675780738\n",
      "brendan2 - 0.10491411469288779\n",
      "thewasp - 0.10319674566419838\n",
      "\n",
      "TrustAuthority Scores\n",
      "jankp - 0.5765344743266597\n",
      "befus - 0.2723313220996898\n",
      "vara - 0.24541751207680124\n",
      "cripper - 0.23092239442058965\n",
      "naphtalia - 0.2300516558200448\n",
      "javelina - 0.22266870606315312\n",
      "ed.williamson - 0.21599808150516858\n",
      "bonniesayers - 0.2071596034248894\n",
      "dierckx - 0.16966355866806968\n",
      "pperky1954 - 0.1551706635472338\n"
     ]
    }
   ],
   "source": [
    "# Now let's call your function on the graph you've built. Output the results.\n",
    "compute_ha(graph)\n",
    "\n",
    "print_hubs(graph, top=10)\n",
    "print() # spacing\n",
    "print_authorities(graph, top=10)"
   ]
  },
  {
   "cell_type": "markdown",
   "metadata": {},
   "source": [
    "# Part 2: Search Engine Optimization (30 + 5 bonus points)"
   ]
  },
  {
   "cell_type": "markdown",
   "metadata": {},
   "source": [
    "For this part, your goal is to put on your \"[search engine optimization](https://en.wikipedia.org/wiki/Search_engine_optimization)\" hat. Your job is to create a webpage that scores highest for the query: **chkstong yibbibi** --- two terms, lower case, no quote. As of today (September 19, 2018), there are no hits for this query on either Google. Bing displays results using some very aggressive spell correction, but nothing that matches the query terms. Based on our discussions of search engine ranking algorithms, you know that several factors may impact a page's rank. Your goal is to use this knowledge to promote your own page to the top of the list.\n",
    "\n",
    "What we're doing here is a form of [SEO contest](https://en.wikipedia.org/wiki/SEO_contest). While you have great latitude in how you approach this problem, you are not allowed to engage in any unethical or illegal behavior. Please read the discussion of \"white hat\" versus \"black hat\" SEO over at [Wikipedia](https://en.wikipedia.org/wiki/Search_engine_optimization). You'll find some good hints at [Moz's Beginner Guide to SEO](https://moz.com/beginners-guide-to-seo)\n",
    "\n",
    "\n",
    "**Rules of the game:**\n",
    "\n",
    "* Somewhere in the page (possibly in the non-viewable source html) you must include your name or some other way for us to identify you.\n",
    "* Your target page may only be a TAMU student page, a page on your own webserver, a page on a standard blog platform (e.g., wordpress), or some other primarily user-controlled page\n",
    "* Your target page CAN NOT be a twitter account, a facebook page, a Yahoo Answers or similar page\n",
    "* No wikipedia vandalism\n",
    "* No yahoo/wiki answers questions\n",
    "* No comment spamming of blogs\n",
    "* If you have concerns/questions/clarifications, please post on Piazza and we will discuss\n",
    "\n",
    "If you're stuck, take a look at the results for last year's SEO contest. The query last year was \"qksame bapibko\". You might find some inspiration.\n",
    "\n",
    "For your homework turnin for this part, you should provide us the URL of your target page and a brief discussion (2-4 paragraphs) of the strategies you are using. We will issue the query and check the rankings at some undetermined time in the next couple of weeks. You might guess that major search engines take some time to discover and integrate new pages: if I were you, I'd get a target page up immediately.\n",
    "\n",
    "**Grading:**\n",
    "\n",
    "* 5 points for providing a valid URL\n",
    "* 20 points for a well-reasoned discussion of your strategy\n",
    "* 5 points for your page appearing in the search results by Google or Bing (no matter what is the ranking)\n",
    "\n",
    "** Bonus: **\n",
    "* 1 point for your page appearing in the top-20 on Google or Bing\n",
    "* 1 more point for your page appearing in the top-10 on Google or Bing\n",
    "* 1 more point for your page appearing in the top-5 on Google or Bing\n",
    "* 2 more points for your page being ranked first by Google or Bing. And, a vigorous announcement in class, and a high-five for having the top result!"
   ]
  },
  {
   "cell_type": "markdown",
   "metadata": {},
   "source": [
    "What's the URL of your page?\n",
    "\n",
    "http://www.nateleake.com/chkstong-yibbibi (top20 google),\n",
    "\n",
    "but my home page http://www.nateleake.com/home (top10 bing) ranks higher on Bing\n",
    "(Bing over-values home pages)"
   ]
  },
  {
   "cell_type": "markdown",
   "metadata": {},
   "source": [
    "What's your strategy? (2-4 paragraphs)\n",
    "\n",
    "Well I guess it's very multifaceted.  First part of my strategy was having my site up as early as possible. I think I dropped the chkstong page on my website within the first few minutes of the assignment appearing on Google Classrooms.  Immediately after that, I went and created a Reddit user (https://www.reddit.com/user/ChkstongYibbibi) and made/replied to some posts on the subject with other students from the class who were getting a head start.  After this, I went back to my website and wrote some details about the contest and other filler content (but none of it spam or meaningless since I know Google looks for and penalizes that kind of thing).  On my Chkstong page, I put up an offer to link to anyone's Chkstong page in return for them linking to mine, on the condition that their site wasn't spammy/gross (I didn't want to even remotely associate myself with spam sites).  I followed up on this with three different students, including the guy who ended up getting 1st place on Google.  After this I didn't really touch the site until the day the homework was due and the contest ended, at which point I removed content that was no longer relevant to the topic.  I also describe my strategy on-site in less detail than here.  Since I was kind of lazy I didn't bother putting up images or other media that might have helped my cause, but I did work on some basic link building from friends and other sites I controlled in a non-spammy way (example: \"Oh, and I'm in an SEO contest for the keyword ChkstongYibbibi over on this site\").  I didn't pay for anything other than the domain name I was already paying for (at ~5$ a year) and the time I put into the project.  I didn't bother to advertise at all so I only had ~20 organic clicks according to Google Search Console, so mostly I was relying on score from just having a well setup site without any nasty/spam."
   ]
  },
  {
   "cell_type": "code",
   "execution_count": null,
   "metadata": {},
   "outputs": [],
   "source": []
  }
 ],
 "metadata": {
  "anaconda-cloud": {},
  "kernelspec": {
   "display_name": "Python 3",
   "language": "python",
   "name": "python3"
  },
  "language_info": {
   "codemirror_mode": {
    "name": "ipython",
    "version": 3
   },
   "file_extension": ".py",
   "mimetype": "text/x-python",
   "name": "python",
   "nbconvert_exporter": "python",
   "pygments_lexer": "ipython3",
   "version": "3.6.6"
  }
 },
 "nbformat": 4,
 "nbformat_minor": 1
}
