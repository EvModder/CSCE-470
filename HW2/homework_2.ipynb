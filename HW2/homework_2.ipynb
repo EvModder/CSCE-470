{
 "cells": [
  {
   "cell_type": "markdown",
   "metadata": {},
   "source": [
    "#### CSCE 470 :: Information Storage and Retrieval :: Texas A&M University :: Fall 2018\n",
    "\n",
    "\n",
    "# Homework 2:  Hubs-and-Authorities + SEO\n",
    "\n",
    "### 100 points [5% of your final grade]\n",
    "\n",
    "### Due: October 4, 2018 by 11:59pm\n",
    "\n",
    "*Goals of this homework:* Explore real-world challenges of building a graph (in this case, from a trust graph), implement and test Hubs and Authorities over this graph, and investigate factors that impact a page's rank on Google and Bing.\n",
    "\n",
    "*Submission Instructions (Google Classroom):* To submit your homework, rename this notebook as  `lastname_firstinitial_hw#.ipynb`. For example, my homework submission would be: `caverlee_j_hw2.ipynb`. Submit this notebook via **Google Classroom**. Your IPython notebook should be completely self-contained, with the results visible in the notebook. We should not have to run any code from the command line, nor should we have to run your code within the notebook (though we reserve the right to do so).\n",
    "\n",
    "*Due:* October 4, 2018 by 11:59pm. For this homework, you may use up to three of your late days, meaning that no submissions will be accepted after October 7 at 11:59pm."
   ]
  },
  {
   "cell_type": "markdown",
   "metadata": {},
   "source": [
    "# Part 1: Trust-based Hubs-and-Authorities (70 points)\n",
    "\n",
    "## A Trust Graph\n",
    "\n",
    "In this assignment, we're going to adapt the classic Hubs-and-Authorities approach to allow us to find not the most trustful users. So, instead of viewing the world as web pages with hyperlinks (where pages = nodes, hyperlinks = edges), we're going to construct a graph of Epinions users and their trust network (so user = node, trust another user = edge). Epinions was a review website where users could review products (like on Amazon) but also provide a \"trust\" link to other users. Over this trust graph, we can apply the Hubs-and-Authorities approach to order the users according to both their hub scores and authority scores. The main idea is that a user who is trusted by other users is more \"trustful\". So, a user with high trustHub score connects to lots of trusted users. A user with high authorityHub score is trusted by lots of good hubs.\n",
    "\n",
    "Here is a toy example. Suppose you are given the following four relations of the form (UserID1 trust UserID2):\n",
    "\n",
    "* teddiec trust jnbmoore\n",
    "* matta75 trust tallgent\n",
    "* nano trust dannec\n",
    "* craftswoman trust ifif1938\n",
    "\n",
    "So, \"teddiec\" is a node with a directed edge to the \"jnbmoore\" node. \n",
    "\n",
    "We provide you with a file containing these kinds of trust relationships: \n",
    "\n",
    "*epinions_network_trust.txt*.\n",
    "\n",
    "You should build a graph of users and trust edges based on this file. Your data structure should support calculating Hubs-and-Authorities, so think carefully about how you want to approach this part."
   ]
  },
  {
   "cell_type": "code",
   "execution_count": null,
   "metadata": {},
   "outputs": [],
   "source": [
    "#read the data\n",
    "import pandas as pd\n",
    "\n",
    "data = pd.read_csv('epinions_network_trust.txt', sep=' ', header = None, names =  [\"UserID1\", \"Relation\", \"UserID2\"])\n"
   ]
  },
  {
   "cell_type": "code",
   "execution_count": null,
   "metadata": {},
   "outputs": [],
   "source": [
    "# Here define your function for building the graph \n",
    "# Insert as many cells as you want\n",
    "\n"
   ]
  },
  {
   "cell_type": "code",
   "execution_count": null,
   "metadata": {},
   "outputs": [],
   "source": [
    "# Call your function to print out the size of the graph, i.e., the number of nodes and edges\n",
    "# How you maintain the graph is totally up to you\n",
    "# However, if you encounter any memory issues, we recommend you write the graph into a file, and load it later.\n",
    "# you may not use any existing graph libraries\n"
   ]
  },
  {
   "cell_type": "markdown",
   "metadata": {
    "collapsed": true
   },
   "source": [
    "We will not check the correctness of your graph. However, this will affect the Hubs-and-Authorities results later."
   ]
  },
  {
   "cell_type": "markdown",
   "metadata": {},
   "source": [
    "## Hubs-and-Authorities Implementation\n",
    "\n",
    "Your program will return the top-10 users with highest Hub scores and the top-10 users with the highest Authority scores.. The **output** should be like:\n",
    "\n",
    "`TrustHub Scores`\n",
    "\n",
    "`user1 - score1`\n",
    "\n",
    "`user2 - score2`\n",
    "\n",
    "`...`\n",
    "\n",
    "`user10 - score10`\n",
    "\n",
    "\n",
    "`TrustAuthority Scores`\n",
    "\n",
    "`user1 - score1`\n",
    "\n",
    "`user2 - score2`\n",
    "\n",
    "` ...`\n",
    "\n",
    "`user10 - score10`\n",
    "\n",
    "\n",
    "You should follow these **rules**:\n",
    "\n",
    "* If a user is never mentioned and does not mention anyone, their scores should be zero. Do not include the user in the calculation.\n",
    "* It is up to you to decide when to terminate the calculation.\n",
    "* There are implementations out there on the web. Remember, your code should be **your own**.\n",
    "\n",
    "\n",
    "**Hints**:\n",
    "* If you're using the matrix style approach, you should use [numpy.matrix](https://docs.scipy.org/doc/numpy/reference/generated/numpy.matrix.html).\n",
    "* Scipy is built on top of Numpy and has support for sparse matrices. You most likely will not need to use Scipy unless you'd like to try out their sparse matrices.\n",
    "* If you choose to use Numpy (and Scipy), please make sure your Anaconda environment include their latest versions.\n",
    "* Test your parsing and calculations using a handful of users, before moving on to the entire file we provide.\n",
    "* We will evaluate the user ranks you provide as well as the quality of your code. So make sure that your code is clear and readable."
   ]
  },
  {
   "cell_type": "markdown",
   "metadata": {},
   "source": [
    "What is the termination condition in your implementation? Describe it below:\n",
    "\n",
    "*ADD YOUR INPUT HERE*"
   ]
  },
  {
   "cell_type": "code",
   "execution_count": null,
   "metadata": {},
   "outputs": [],
   "source": [
    "# Here add your code\n",
    "# Insert as many cells as you want"
   ]
  },
  {
   "cell_type": "code",
   "execution_count": null,
   "metadata": {},
   "outputs": [],
   "source": [
    "# Now let's call your function on the graph you've built. Output the results.\n"
   ]
  },
  {
   "cell_type": "markdown",
   "metadata": {},
   "source": [
    "# Part 2: Search Engine Optimization (30 + 5 bonus points)"
   ]
  },
  {
   "cell_type": "markdown",
   "metadata": {},
   "source": [
    "For this part, your goal is to put on your \"[search engine optimization](https://en.wikipedia.org/wiki/Search_engine_optimization)\" hat. Your job is to create a webpage that scores highest for the query: **chkstong yibbibi** --- two terms, lower case, no quote. As of today (September 19, 2018), there are no hits for this query on either Google. Bing displays results using some very aggressive spell correction, but nothing that matches the query terms. Based on our discussions of search engine ranking algorithms, you know that several factors may impact a page's rank. Your goal is to use this knowledge to promote your own page to the top of the list.\n",
    "\n",
    "What we're doing here is a form of [SEO contest](https://en.wikipedia.org/wiki/SEO_contest). While you have great latitude in how you approach this problem, you are not allowed to engage in any unethical or illegal behavior. Please read the discussion of \"white hat\" versus \"black hat\" SEO over at [Wikipedia](https://en.wikipedia.org/wiki/Search_engine_optimization). You'll find some good hints at [Moz's Beginner Guide to SEO](https://moz.com/beginners-guide-to-seo)\n",
    "\n",
    "\n",
    "**Rules of the game:**\n",
    "\n",
    "* Somewhere in the page (possibly in the non-viewable source html) you must include your name or some other way for us to identify you.\n",
    "* Your target page may only be a TAMU student page, a page on your own webserver, a page on a standard blog platform (e.g., wordpress), or some other primarily user-controlled page\n",
    "* Your target page CAN NOT be a twitter account, a facebook page, a Yahoo Answers or similar page\n",
    "* No wikipedia vandalism\n",
    "* No yahoo/wiki answers questions\n",
    "* No comment spamming of blogs\n",
    "* If you have concerns/questions/clarifications, please post on Piazza and we will discuss\n",
    "\n",
    "If you're stuck, take a look at the results for last year's SEO contest. The query last year was \"qksame bapibko\". You might find some inspiration.\n",
    "\n",
    "For your homework turnin for this part, you should provide us the URL of your target page and a brief discussion (2-4 paragraphs) of the strategies you are using. We will issue the query and check the rankings at some undetermined time in the next couple of weeks. You might guess that major search engines take some time to discover and integrate new pages: if I were you, I'd get a target page up immediately.\n",
    "\n",
    "**Grading:**\n",
    "\n",
    "* 5 points for providing a valid URL\n",
    "* 20 points for a well-reasoned discussion of your strategy\n",
    "* 5 points for your page appearing in the search results by Google or Bing (no matter what is the ranking)\n",
    "\n",
    "** Bonus: **\n",
    "* 1 point for your page appearing in the top-20 on Google or Bing\n",
    "* 1 more point for your page appearing in the top-10 on Google or Bing\n",
    "* 1 more point for your page appearing in the top-5 on Google or Bing\n",
    "* 2 more points for your page being ranked first by Google or Bing. And, a vigorous announcement in class, and a high-five for having the top result!"
   ]
  },
  {
   "cell_type": "markdown",
   "metadata": {},
   "source": [
    "What's the URL of your page?\n",
    "\n",
    "*ADD YOUR INPUT HERE*"
   ]
  },
  {
   "cell_type": "markdown",
   "metadata": {},
   "source": [
    "What's your strategy? (2-4 paragraphs)\n",
    "\n",
    "*ADD YOUR INPUT HERE*"
   ]
  }
 ],
 "metadata": {
  "anaconda-cloud": {},
  "kernelspec": {
   "display_name": "Python 3",
   "language": "python",
   "name": "python3"
  },
  "language_info": {
   "codemirror_mode": {
    "name": "ipython",
    "version": 3
   },
   "file_extension": ".py",
   "mimetype": "text/x-python",
   "name": "python",
   "nbconvert_exporter": "python",
   "pygments_lexer": "ipython3",
   "version": "3.6.5"
  }
 },
 "nbformat": 4,
 "nbformat_minor": 1
}
